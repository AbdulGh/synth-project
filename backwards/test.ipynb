{
 "cells": [
  {
   "cell_type": "code",
   "execution_count": null,
   "metadata": {},
   "outputs": [],
   "source": [
    "import pywt\n",
    "import matplotlib.pyplot as plt\n",
    "from numpy.fft import fft\n",
    "import numpy as np\n",
    "import librosa\n",
    "\n",
    "SAMPLE_RATE = 16000\n",
    "saw, _ = librosa.load(\"C:\\\\Users\\\\abdulg\\\\source\\\\repos\\\\Synth\\\\backwards\\\\waves\\\\saw.wav\", sr=SAMPLE_RATE)\n",
    "sine, _ = librosa.load(\"C:\\\\Users\\\\abdulg\\\\source\\\\repos\\\\Synth\\\\backwards\\\\waves\\\\sine.wav\", sr=SAMPLE_RATE)\n",
    "square, _ = librosa.load(\"C:\\\\Users\\\\abdulg\\\\source\\\\repos\\\\Synth\\\\backwards\\\\waves\\\\square.wav\", sr=SAMPLE_RATE)\n",
    "up, _ = librosa.load(\"C:\\\\Users\\\\abdulg\\\\source\\\\repos\\\\Synth\\\\backwards\\\\waves\\\\filterUp.wav\", sr=SAMPLE_RATE)\n",
    "down, _ = librosa.load(\"C:\\\\Users\\\\abdulg\\\\source\\\\repos\\\\Synth\\\\backwards\\\\waves\\\\filterDown.wav\", sr=SAMPLE_RATE)\n",
    "flute, _ = librosa.load(\"C:\\\\Users\\\\abdulg\\\\source\\\\repos\\\\Synth\\\\backwards\\\\waves\\\\basic flute.wav\", sr=SAMPLE_RATE)"
   ]
  },
  {
   "cell_type": "code",
   "execution_count": null,
   "metadata": {},
   "outputs": [],
   "source": [
    "def plotWaveform(ax, signal, sr, numpoints):\n",
    "    librosa.display.waveshow(signal, sr=sr, ax=ax, max_points=numpoints)\n",
    "    ax.set_xlabel(\"Time (s)\")\n",
    "    ax.set_ylabel(\"Amplitude\")\n",
    "\n",
    "def plotSpectrogram(ax, signal, sr):\n",
    "\tax.specgram(signal, sr, cmap=\"viridis\")\n",
    "\n",
    "def plotScaleogram(ax, signal, waveletname=\"cmor\"):\n",
    "\tscales = np.arange(1, 200)  \n",
    "\tcoeffs, _ = pywt.cwt(signal, scales, waveletname)\n",
    "\tax.imshow(np.abs(coeffs), extent=[0, len(signal), 1, 200], cmap=\"viridis\", aspect=\"auto\", origin=\"lower\")\n",
    "\tax.xlabel(\"Sample\")\n",
    "\tax.ylabel(\"Scale\")"
   ]
  },
  {
   "cell_type": "code",
   "execution_count": null,
   "metadata": {},
   "outputs": [],
   "source": [
    "fig, axes = plt.subplots(nrows=3, ncols=3)\n",
    "\n",
    "signals = [sine, saw, square]\n",
    "for i in range(0,3):\n",
    "\tplotWaveform(axes[0, i], signals[i], SAMPLE_RATE, int(3 * SAMPLE_RATE / 261))\n",
    "\tplotSpectrogram(axes[1,i], signals[i], SAMPLE_RATE)\n",
    "\tplotScaleogram(axes[2,i], signals[i])\n",
    "\n",
    "fig.show()"
   ]
  },
  {
   "cell_type": "markdown",
   "metadata": {},
   "source": [
    "#Plotting code"
   ]
  },
  {
   "cell_type": "code",
   "execution_count": null,
   "metadata": {},
   "outputs": [],
   "source": [
    "#todo replace spectrogram images with this\n",
    "stft = librosa.stft(down)\n",
    "db = librosa.amplitude_to_db(np.abs(stft), ref=np.max)\n",
    "plt.figure()\n",
    "librosa.display.specshow(S_db)"
   ]
  },
  {
   "cell_type": "code",
   "execution_count": null,
   "metadata": {},
   "outputs": [],
   "source": [
    "plt.specgram(flute, SAMPLE_RATE, cmap=\"viridis\", Fs=SAMPLE_RATE)\n",
    "plt.axis(ymax = 1000)\n",
    "plt.axis(\"off\")\n",
    "plt.show()"
   ]
  },
  {
   "cell_type": "code",
   "execution_count": null,
   "metadata": {},
   "outputs": [],
   "source": [
    "#show a scaleogram\n",
    "signal = flute\n",
    "scales = np.arange(1, 80)  \n",
    "coeffs, _ = pywt.cwt(signal, scales, \"mexh\")\n",
    "plt.imshow(np.abs(coeffs), extent=[0, len(signal), 1, 80], cmap=\"viridis\", aspect=\"auto\", origin=\"lower\")\n",
    "plt.axis(\"off\")\n",
    "plt.show()"
   ]
  },
  {
   "cell_type": "code",
   "execution_count": null,
   "metadata": {},
   "outputs": [],
   "source": [
    "#fft plotting code\n",
    "signal = flute\n",
    "spectrum = np.fft.fft(signal)\n",
    "frequencies = np.fft.fftfreq(len(signal), d=1/16000)\n",
    "\n",
    "# Plot only positive frequencies and their magnitudes\n",
    "plt.plot(frequencies[:len(frequencies)//10], np.abs(spectrum)[:len(frequencies)//10])\n",
    "plt.xlabel('Frequency (Hz)')\n",
    "plt.ylabel('Magnitude')\n",
    "\n",
    "plt.show()"
   ]
  },
  {
   "cell_type": "code",
   "execution_count": null,
   "metadata": {},
   "outputs": [],
   "source": [
    "#too big!\n",
    "np.shape(coeffs)"
   ]
  },
  {
   "cell_type": "code",
   "execution_count": null,
   "metadata": {},
   "outputs": [],
   "source": [
    "#try downsampling, but we introduce 'ripples' in the image that could confuse the CNN for an LFO\n",
    "coeffs2 = block_reduce(coeffs, (2,32), np.max)\n",
    "print(np.shape(coeffs2))\n",
    "plt.imshow(np.abs(coeffs2), extent=[0, len(signal), 1, 80], cmap=\"viridis\", aspect=\"auto\", origin=\"lower\")\n",
    "plt.axis(\"off\")\n",
    "plt.show()"
   ]
  },
  {
   "cell_type": "code",
   "execution_count": 62,
   "metadata": {},
   "outputs": [],
   "source": [
    "#maybe do a mel-type thing?\n",
    "melTransform = librosa.filters.mel(sr=SAMPLE_RATE, n_fft=80, n_mels=16)"
   ]
  },
  {
   "cell_type": "code",
   "execution_count": 63,
   "metadata": {},
   "outputs": [
    {
     "data": {
      "text/plain": [
       "(16, 41)"
      ]
     },
     "execution_count": 63,
     "metadata": {},
     "output_type": "execute_result"
    }
   ],
   "source": [
    "np.shape(melTransform)"
   ]
  },
  {
   "cell_type": "code",
   "execution_count": null,
   "metadata": {},
   "outputs": [],
   "source": []
  }
 ],
 "metadata": {
  "kernelspec": {
   "display_name": "Python 3",
   "language": "python",
   "name": "python3"
  },
  "language_info": {
   "codemirror_mode": {
    "name": "ipython",
    "version": 3
   },
   "file_extension": ".py",
   "mimetype": "text/x-python",
   "name": "python",
   "nbconvert_exporter": "python",
   "pygments_lexer": "ipython3",
   "version": "3.10.6"
  },
  "orig_nbformat": 4
 },
 "nbformat": 4,
 "nbformat_minor": 2
}
