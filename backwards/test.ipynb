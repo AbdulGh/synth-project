{
 "cells": [
  {
   "cell_type": "code",
   "execution_count": null,
   "metadata": {},
   "outputs": [],
   "source": [
    "import pywt\n",
    "import matplotlib.pyplot as plt\n",
    "from numpy.fft import fft\n",
    "import numpy as np\n",
    "import librosa\n",
    "saw, _ = librosa.load(\"C:\\\\Users\\\\abdulg\\\\source\\\\repos\\\\Synth\\\\backwards\\\\waves\\\\saw.wav\", sr=16000)\n",
    "sine, _ = librosa.load(\"C:\\\\Users\\\\abdulg\\\\source\\\\repos\\\\Synth\\\\backwards\\\\waves\\\\sine.wav\", sr=16000)\n",
    "square, _ = librosa.load(\"C:\\\\Users\\\\abdulg\\\\source\\\\repos\\\\Synth\\\\backwards\\\\waves\\\\square.wav\", sr=16000)\n",
    "up, _ = librosa.load(\"C:\\\\Users\\\\abdulg\\\\source\\\\repos\\\\Synth\\\\backwards\\\\waves\\\\filterUp.wav\", sr=16000)\n",
    "down, _ = librosa.load(\"C:\\\\Users\\\\abdulg\\\\source\\\\repos\\\\Synth\\\\backwards\\\\waves\\\\filterDown.wav\", sr=16000)"
   ]
  },
  {
   "cell_type": "code",
   "execution_count": null,
   "metadata": {},
   "outputs": [],
   "source": [
    "def plotWaveform(ax, signal, sr, numpoints):\n",
    "    librosa.display.waveshow(signal, sr=sr, ax=ax, max_points=numpoints)\n",
    "    ax.set_xlabel(\"Time (s)\")\n",
    "    ax.set_ylabel(\"Amplitude\")\n",
    "\n",
    "def plotSpectrogram(ax, signal, sr):\n",
    "\tax.specgram(signal, sr, cmap=\"viridis\")\n",
    "\n",
    "def plotScaleogram(ax, signal, waveletname=\"cmor\"):\n",
    "\tscales = np.arange(1, 200)  \n",
    "\tcoeffs, _ = pywt.cwt(signal, scales, waveletname)\n",
    "\tax.imshow(np.abs(coeffs), extent=[0, len(signal), 1, 200], cmap=\"viridis\", aspect=\"auto\", origin=\"lower\")\n",
    "\tax.xlabel(\"Sample\")\n",
    "\tax.ylabel(\"Scale\")"
   ]
  },
  {
   "cell_type": "code",
   "execution_count": null,
   "metadata": {},
   "outputs": [],
   "source": [
    "fig, axes = plt.subplots(nrows=3, ncols=3)\n",
    "\n",
    "signals = [sine, saw, square]\n",
    "for i in range(0,3):\n",
    "\tplotWaveform(axes[0, i], signals[i], 16000, int(3 * 16000 / 261))\n",
    "\tplotSpectrogram(axes[1,i], signals[i], 16000)\n",
    "\tplotScaleogram(axes[2,i], signals[i])\n",
    "\n",
    "fig.show()"
   ]
  },
  {
   "cell_type": "markdown",
   "metadata": {},
   "source": [
    "#Plotting code"
   ]
  },
  {
   "cell_type": "code",
   "execution_count": null,
   "metadata": {},
   "outputs": [],
   "source": [
    "plt.specgram(up, 16000, cmap=\"viridis\", Fs=16000)\n",
    "plt.axis(ymax = 1000)\n",
    "plt.axis(\"off\")\n",
    "plt.show()"
   ]
  },
  {
   "cell_type": "code",
   "execution_count": null,
   "metadata": {},
   "outputs": [],
   "source": [
    "signal = down\n",
    "scales = np.arange(1, 30)  \n",
    "coeffs, _ = pywt.cwt(signal, scales, \"mexh\")\n",
    "plt.imshow(np.abs(coeffs), extent=[0, len(signal), 1, 30], cmap=\"viridis\", aspect=\"auto\", origin=\"lower\")\n",
    "plt.axis(\"off\")\n",
    "plt.show()"
   ]
  },
  {
   "cell_type": "code",
   "execution_count": null,
   "metadata": {},
   "outputs": [],
   "source": [
    "signal = down\n",
    "spectrum = np.fft.fft(signal)\n",
    "frequencies = np.fft.fftfreq(len(signal), d=1/16000)\n",
    "\n",
    "# Plot only positive frequencies and their magnitudes\n",
    "plt.plot(frequencies[:len(frequencies)//10], np.abs(spectrum)[:len(frequencies)//10])\n",
    "plt.xlabel('Frequency (Hz)')\n",
    "plt.ylabel('Magnitude')\n",
    "\n",
    "plt.show()"
   ]
  }
 ],
 "metadata": {
  "kernelspec": {
   "display_name": "Python 3",
   "language": "python",
   "name": "python3"
  },
  "language_info": {
   "codemirror_mode": {
    "name": "ipython",
    "version": 3
   },
   "file_extension": ".py",
   "mimetype": "text/x-python",
   "name": "python",
   "nbconvert_exporter": "python",
   "pygments_lexer": "ipython3",
   "version": "3.10.6"
  },
  "orig_nbformat": 4
 },
 "nbformat": 4,
 "nbformat_minor": 2
}
